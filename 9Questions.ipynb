{
 "cells": [
  {
   "cell_type": "code",
   "execution_count": 2,
   "id": "bb2466f2-819f-4e3c-ad71-4995fa954219",
   "metadata": {},
   "outputs": [
    {
     "ename": "IndentationError",
     "evalue": "expected an indented block after 'for' statement on line 4 (443636907.py, line 5)",
     "output_type": "error",
     "traceback": [
      "\u001b[1;36m  Cell \u001b[1;32mIn[2], line 5\u001b[1;36m\u001b[0m\n\u001b[1;33m    [[rollno],[names],[subjects],[marks => [10,20,30],[40,50,60]\u001b[0m\n\u001b[1;37m    ^\u001b[0m\n\u001b[1;31mIndentationError\u001b[0m\u001b[1;31m:\u001b[0m expected an indented block after 'for' statement on line 4\n"
     ]
    }
   ],
   "source": [
    "sdb=[]\n",
    "dbfields=int(input(\"how many fields \"))\n",
    "\n",
    "for i in range (dbfields):\n",
    "[[rollno],[names],[subjects],[marks => [10,20,30],[40,50,60]"
   ]
  },
  {
   "cell_type": "code",
   "execution_count": 3,
   "id": "8c4e9bbe-aa11-4cf3-ad7f-940e9eaabc5f",
   "metadata": {},
   "outputs": [
    {
     "name": "stdin",
     "output_type": "stream",
     "text": [
      "Enter the no of recodrs you want to add: 1\n"
     ]
    },
    {
     "name": "stdout",
     "output_type": "stream",
     "text": [
      "\n",
      "Enter deatils for records 1:\n"
     ]
    },
    {
     "name": "stdin",
     "output_type": "stream",
     "text": [
      "Enter name:  sai\n",
      "Enter student ID:  211\n",
      "Enter department:  cse\n",
      "Enter faculty:  phys\n",
      "Enter score:  90\n"
     ]
    },
    {
     "name": "stdout",
     "output_type": "stream",
     "text": [
      "\n",
      "Database records:\n"
     ]
    },
    {
     "ename": "NameError",
     "evalue": "name 'database' is not defined",
     "output_type": "error",
     "traceback": [
      "\u001b[1;31m---------------------------------------------------------------------------\u001b[0m",
      "\u001b[1;31mNameError\u001b[0m                                 Traceback (most recent call last)",
      "Cell \u001b[1;32mIn[3], line 24\u001b[0m\n\u001b[0;32m     20\u001b[0m     sbd\u001b[38;5;241m.\u001b[39mappend(record)\n\u001b[0;32m     23\u001b[0m     \u001b[38;5;28mprint\u001b[39m(\u001b[38;5;124m\"\u001b[39m\u001b[38;5;130;01m\\n\u001b[39;00m\u001b[38;5;124mDatabase records:\u001b[39m\u001b[38;5;124m\"\u001b[39m)\n\u001b[1;32m---> 24\u001b[0m \u001b[38;5;28;01mfor\u001b[39;00m i, record \u001b[38;5;129;01min\u001b[39;00m \u001b[38;5;28menumerate\u001b[39m(database):\n\u001b[0;32m     25\u001b[0m     \u001b[38;5;28mprint\u001b[39m(\u001b[38;5;124mf\u001b[39m\u001b[38;5;124m\"\u001b[39m\u001b[38;5;124mRecord \u001b[39m\u001b[38;5;132;01m{\u001b[39;00mi\u001b[38;5;241m+\u001b[39m\u001b[38;5;241m1\u001b[39m\u001b[38;5;132;01m}\u001b[39;00m\u001b[38;5;124m: \u001b[39m\u001b[38;5;132;01m{\u001b[39;00mrecord\u001b[38;5;132;01m}\u001b[39;00m\u001b[38;5;124m\"\u001b[39m)\n",
      "\u001b[1;31mNameError\u001b[0m: name 'database' is not defined"
     ]
    }
   ],
   "source": [
    "sbd=[]\n",
    "num_records=int(input(\"Enter the no of recodrs you want to add:\"))\n",
    "\n",
    "for i in range(num_records):\n",
    "    print(f\"\\nEnter deatils for records {i+1}:\")\n",
    "\n",
    "    name = input(\"Enter name: \")\n",
    "    student_id = int(input(\"Enter student ID: \"))\n",
    "    department = input(\"Enter department: \")\n",
    "    faculty = input(\"Enter faculty: \")\n",
    "    score = float(input(\"Enter score: \"))\n",
    "\n",
    "    record ={\n",
    "        \"name\": name,\n",
    "        \"id\": student_id,\n",
    "        \"department\": department,\n",
    "        \"faculty\": faculty,\n",
    "        \"score\": score\n",
    "    }\n",
    "    sbd.append(record)\n",
    "    \n",
    "        \n",
    "    print(\"\\nDatabase records:\")\n",
    "for i, record in enumerate(database):\n",
    "    print(f\"Record {i+1}: {record}\")\n"
   ]
  },
  {
   "cell_type": "code",
   "execution_count": null,
   "id": "0521b7fa-a759-4dec-9aa8-43b86b496339",
   "metadata": {},
   "outputs": [],
   "source": [
    "list=[112,34,56,7,8,9,34]\n",
    "print(*list)"
   ]
  },
  {
   "cell_type": "code",
   "execution_count": null,
   "id": "400220f5-d882-4504-bb97-9f58adcd70b7",
   "metadata": {},
   "outputs": [],
   "source": [
    "tuple=(1,)\n",
    "print(type(tuple)"
   ]
  },
  {
   "cell_type": "code",
   "execution_count": null,
   "id": "95e53b57-a8b9-4107-bed6-3981f69613a5",
   "metadata": {},
   "outputs": [],
   "source": [
    "l1=[10,\"abc\",\"pjh\",3.19]\n",
    "print(l1)\n"
   ]
  },
  {
   "cell_type": "code",
   "execution_count": null,
   "id": "2d8f4731-f019-49eb-b98a-99f91d0ff6d6",
   "metadata": {},
   "outputs": [],
   "source": [
    "password = input(\"enter the password:\")\n",
    "l,u,d,p=0,0,0,0\n",
    "special_char=(\"!@#$%^&*()-_+=<>?\")\n",
    "if (len(password)>= 8):\n",
    "    for i in password:\n",
    "        if(i.islower()):\n",
    "            l+=1\n",
    "        if(i.isupper()):\n",
    "            u+=1\n",
    "        if(i.isdigit()):\n",
    "            d+=1\n",
    "        if i in special_char:\n",
    "            p+=1\n",
    "if(l>=1 and u>=1 and d>=1 and p>=1):\n",
    "    print(\"valid password\")\n",
    "else:\n",
    "    print(\"invalid password\")"
   ]
  },
  {
   "cell_type": "code",
   "execution_count": null,
   "id": "f6bf6baa-5c05-400f-be1a-823e6a179b6c",
   "metadata": {},
   "outputs": [],
   "source": [
    "celsius = int(input(\"Enter the Temperature in Celsius :\\n\"))\n",
    "\n",
    "fahrenheit = (1.8 * celsius) + 32\n",
    "\n",
    "print(\"Temperature in Fahrenheit :\", fahrenheit)"
   ]
  },
  {
   "cell_type": "code",
   "execution_count": 2,
   "id": "2e0b4ef9-7cb9-4d14-9d88-7c17b2344346",
   "metadata": {},
   "outputs": [],
   "source": [
    "def calculate_salary(hourly_wage, hours_worked):\n",
    "   \n",
    "    REGULAR_HOURS = 40\n",
    "    OVERTIME_MULTIPLIER = 1.5\n",
    "    \n",
    "    \n",
    "    if hours_worked > REGULAR_HOURS:\n",
    "        regular_hours = REGULAR_HOURS\n",
    "        overtime_hours = hours_worked - REGULAR_HOURS\n",
    "    else:\n",
    "        regular_hours = hours_worked\n",
    "        overtime_hours = 0\n",
    "\n",
    "   \n",
    "    regular_salary = regular_hours * hourly_wage\n",
    "    overtime_salary = overtime_hours * hourly_wage * OVERTIME_MULTIPLIER\n",
    "    total_salary = regular_salary + overtime_salary\n",
    "    \n",
    "    return total_salary\n",
    "\n",
    "hourly_wage = 20000\n",
    "hours_worked = 50  "
   ]
  },
  {
   "cell_type": "code",
   "execution_count": 3,
   "id": "a283e6b3-304e-4cd2-8e9d-4e4c11993086",
   "metadata": {},
   "outputs": [
    {
     "name": "stdin",
     "output_type": "stream",
     "text": [
      "Enter the mathematical expression (e.g., x + y + z):  X+Y+X\n"
     ]
    },
    {
     "name": "stdout",
     "output_type": "stream",
     "text": [
      "Number of matrices needed: 2\n"
     ]
    }
   ],
   "source": [
    "def count_variables(expression):\n",
    "    variables = set(filter(str.isalpha, expression))\n",
    "    return len(variables)\n",
    "\n",
    "\n",
    "expression = input(\"Enter the mathematical expression : \")\n",
    "num_matrices = count_variables(expression)\n",
    "\n",
    "print(f\"Number of matrices needed: {num_matrices}\")\n"
   ]
  },
  {
   "cell_type": "code",
   "execution_count": null,
   "id": "bb55970a-1d90-401a-957a-a99981cbaecd",
   "metadata": {},
   "outputs": [
    {
     "name": "stdin",
     "output_type": "stream",
     "text": [
      "Enter the mathematical expression (e.g., x + y + z):  X+XZ\n"
     ]
    },
    {
     "name": "stdout",
     "output_type": "stream",
     "text": [
      "Enter matrix for variable 'X' (rows should be comma-separated values):\n"
     ]
    },
    {
     "name": "stdin",
     "output_type": "stream",
     "text": [
      "Enter a row (or type 'done' to finish):  2\n",
      "Enter a row (or type 'done' to finish):  3\n",
      "Enter a row (or type 'done' to finish):  3\n",
      "Enter a row (or type 'done' to finish):  3\n"
     ]
    }
   ],
   "source": [
    "def count_variables(expression):\n",
    "    variables = set(filter(str.isalpha, expression))\n",
    "    return len(variables)\n",
    "\n",
    "def get_matrix_input(var_name):\n",
    "    print(f\"Enter matrix for variable '{var_name}' (rows should be comma-separated values):\")\n",
    "    matrix = []\n",
    "    while True:\n",
    "        row = input(\"Enter a row (or type 'done' to finish): \")\n",
    "        if row.lower() == 'done':\n",
    "            break\n",
    "        try:\n",
    "            matrix.append(list(map(float, row.split(','))))\n",
    "        except ValueError:\n",
    "            print(\"Invalid input. Please enter numbers separated by commas.\")\n",
    "    return matrix\n",
    "\n",
    "expression = input(\"Enter the mathematical expression (e.g., x + y + z): \").strip()\n",
    "num_matrices = count_variables(expression)\n",
    "\n",
    "matrices = {}\n",
    "for i in range(num_matrices):\n",
    "    var_name = chr(ord('x') + i).upper()  # Assumes variables are 'X', 'Y', 'Z', etc.\n",
    "    matrices[var_name] = get_matrix_input(var_name)\n",
    "\n",
    "print(\"\\nEntered matrices:\")\n",
    "for var_name, matrix in matrices.items():\n",
    "    print(f\"Matrix for variable '{var_name}':\")\n",
    "    for row in matrix:\n",
    "        print(row)\n"
   ]
  },
  {
   "cell_type": "code",
   "execution_count": null,
   "id": "b0c48f34-0c8b-4d5f-bde5-c5dbe1758317",
   "metadata": {},
   "outputs": [],
   "source": [
    "names = [\"Alice\", \"Bob\", \"Charlie\"]\n",
    "roll_numbers = [101, 102, 103]\n",
    "english_marks = [85, 90, 88]\n",
    "maths_marks = [92, 85, 89]\n",
    "social_marks = [78, 80, 84]\n",
    "\n",
    "students = list(zip(names, roll_numbers, english_marks, maths_marks, social_marks))\n",
    "\n",
    "def get_student_details(roll_number):\n",
    "    for student in students:\n",
    "        name, roll, english, maths, social = student\n",
    "        if roll == roll_number:\n",
    "            return {\n",
    "                \"Name\": name,\n",
    "                \"Roll Number\": roll,\n",
    "                \"English Mark\": english,\n",
    "                \"Maths Mark\": maths,\n",
    "                \"Social Mark\": social\n",
    "            }\n",
    "    return \"Roll number not found.\"\n",
    "\n",
    "search_roll_number = int(input(\"Enter roll number to search: \"))\n",
    "print(get_student_details(search_roll_number))\n"
   ]
  },
  {
   "cell_type": "code",
   "execution_count": null,
   "id": "218282c8-b217-4ca1-a2a8-af88a84d4535",
   "metadata": {},
   "outputs": [],
   "source": []
  }
 ],
 "metadata": {
  "kernelspec": {
   "display_name": "Python 3 (ipykernel)",
   "language": "python",
   "name": "python3"
  },
  "language_info": {
   "codemirror_mode": {
    "name": "ipython",
    "version": 3
   },
   "file_extension": ".py",
   "mimetype": "text/x-python",
   "name": "python",
   "nbconvert_exporter": "python",
   "pygments_lexer": "ipython3",
   "version": "3.11.7"
  }
 },
 "nbformat": 4,
 "nbformat_minor": 5
}
