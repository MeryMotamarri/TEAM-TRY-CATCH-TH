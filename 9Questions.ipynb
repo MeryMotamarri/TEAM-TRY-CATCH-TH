def calculate_salary(hourly_wage, hours_worked):
   
    REGULAR_HOURS = 40
    OVERTIME_MULTIPLIER = 1.5
    
    
    if hours_worked > REGULAR_HOURS:
        regular_hours = REGULAR_HOURS
        overtime_hours = hours_worked - REGULAR_HOURS
    else:
        regular_hours = hours_worked
        overtime_hours = 0

   
    regular_salary = regular_hours * hourly_wage
    overtime_salary = overtime_hours * hourly_wage * OVERTIME_MULTIPLIER
    total_salary = regular_salary + overtime_salary
    
    return total_salary


hourly_wage = 20000
hours_worked = 50  


total_salary = calculate_salary(hourly_wage, hours_worked)
print("Total Salary: ", total_salary)
-------------------------------------------------------------------------------------------------
def cal_final_grade(assignments, exams):
    return assignments * 0.4 + exams * 0.6
 
def cal_letter_grade(final_grade):
    if final_grade >= 90:
        return 'A', 'Google, Amazon, Facebook'
    elif final_grade >= 80:
        return 'B', 'Microsoft, IBM, Intel'
    elif final_grade >= 70:
        return 'C', 'HP, Dell, Cisco'
    elif final_grade >= 60:
        return 'D', 'Startups, Small Businesses'
    else:
        return 'F', 'None'
 
def grade():
    name = input("Enter the student's name: ")
    assignments = float(input("Enter the average assignment score: "))
    exams = float(input("Enter the average exam score: "))
 
    final_grade = cal_final_grade(assignments, exams)
    letter_grade, eligible_companies = cal_letter_grade(final_grade)
 
    print("Final Grade:", final_grade)
    print("Letter Grade:", letter_grade)
    print("Eligible Companies:", eligible_companies)
 
grade()
--------------------------------------------------------------------------------------------------------
def calculate_fuel_efficiency_liters_per_100km(distance, fuel_used):
    
    if distance != 0:  
        efficiency = (fuel_used / distance) * 100
    else:
        efficiency = 0  
    return efficiency


distance_traveled = 300  
fuel_consumed = 45       


fuel_efficiency = calculate_fuel_efficiency_liters_per_100km(distance_traveled, fuel_consumed)
print("Fuel Efficiency: ", fuel_efficiency, "liters per 100 kilometers")
----------------------------------------------------------
def convert_usd_to_inr(amount_usd, exchange_rate_usd_to_inr):
   
    amount_in_inr = amount_usd * exchange_rate_usd_to_inr
    return amount_in_inr


amount_in_usd = 100            
exchange_rate_usd_to_inr = 83.50  

amount_in_inr = convert_usd_to_inr(amount_in_usd, exchange_rate_usd_to_inr)
print("Converted Amount: ₹", amount_in_inr)
-------------------------------------------------------------------------------------
def calculate_simple_interest(principal, rate, time):
 
    return (principal * rate * time) / 100


principal_amounts_inr = [1500, 2500, 1800, 3000, 1200] 
time_years = 3       

for principal in principal_amounts_inr:
    
    if principal < 2000:
        interest_rate = 4  
    else:
        interest_rate = 6  
    
    
    interest = calculate_simple_interest(principal, interest_rate, time_years)
    
    
    print(f"Principal: ₹{principal}, Interest Rate: {interest_rate}%, Simple Interest: ₹{interest:.2f}")
-----------------------------------------------------------------------------------------------------------------
def calculate_gst_and_total(principal, gst_rate):
   
    gst_amount = (principal * gst_rate) / 100
    
    total_amount = principal + gst_amount
    return gst_amount, total_amount


principal_amounts_inr = [5000, 15000, 20000, 7500, 3000]  

for principal in principal_amounts_inr:
   
    if principal < 5000:
        gst_rate = 5  
    elif principal < 15000:
        gst_rate = 12  
    else:
        gst_rate = 18  
    
    gst_amount, total_amount = calculate_gst_and_total(principal, gst_rate)
    
   
    print(f"Principal Amount: ₹{principal}, GST Rate: {gst_rate}%, GST Amount: ₹{gst_amount:.2f}, Total Amount: ₹{total_amount:.2f}")
----------------------------------------------------------------------------------------------------------------------------------
def permute(s):
   
    if len(s) == 1:
        return [s]
    
   
    permutations = []
    
   
    for i in range(len(s)):
        
        current_char = s[i]
        
        
        remaining_chars = s[:i] + s[i+1:]
        
        
        for perm in permute(remaining_chars):
            
            permutations.append(current_char + perm)
    
    return permutations


string = "ABC"
result = permute(string)


print("All permutations of the string:", result)
------------------------------------------------------------
def longest_unique_substring(s):
    
    start = 0
    max_length = 0
    char_set = set()

  
    for end in range(len(s)):
        while s[end] in char_set:
            
            char_set.remove(s[start])
            start += 1
        
        
        char_set.add(s[end])
        
     
        max_length = max(max_length, end - start + 1)
    
    return max_length
---------------------------------------------------------------------------
def compress_string(s):
    
    if len(s) <= 1:
        return s

    
    compressed = []
    count = 1

  
    for i in range(1, len(s)):
        if s[i] == s[i - 1]:
            
            count += 1
        else:
            
            compressed.append(s[i - 1] + str(count))
            count = 1  

  
    compressed.append(s[-1] + str(count))

   
    compressed_string = ''.join(compressed)

    
    return compressed_string if len(compressed_string) < len(s) else s


string = "aabcccccaaa"
result = compress_string(string)


print("Compressed string:", result)

string = "abcabcbb"
result = longest_unique_substring(string)


print("Length of the longest substring without repeating characters:", result)

----------------------------------------------------------------------------------------------
